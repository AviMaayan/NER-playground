{
 "cells": [
  {
   "cell_type": "markdown",
   "metadata": {},
   "source": [
    "# Synonym-based, Rule-based and CRF approaches for NER "
   ]
  },
  {
   "cell_type": "code",
   "execution_count": 1,
   "metadata": {},
   "outputs": [],
   "source": [
    "from collections import Counter\n",
    "\n",
    "import nltk\n",
    "\n",
    "import sklearn_crfsuite\n",
    "from sklearn_crfsuite import scorers\n",
    "from sklearn_crfsuite import metrics\n",
    "\n",
    "import datasets"
   ]
  },
  {
   "cell_type": "markdown",
   "metadata": {},
   "source": [
    "## 0. Load the data"
   ]
  },
  {
   "cell_type": "code",
   "execution_count": 2,
   "metadata": {},
   "outputs": [
    {
     "name": "stdout",
     "output_type": "stream",
     "text": [
      "593 100\n"
     ]
    }
   ],
   "source": [
    "train_data = datasets.parse_NCBI_disease_corpus('data/NCBItrainset_corpus.txt')\n",
    "test_data = datasets.parse_NCBI_disease_corpus('data/NCBItestset_corpus.txt')\n",
    "print (len(train_data), len(test_data))"
   ]
  },
  {
   "cell_type": "code",
   "execution_count": 3,
   "metadata": {},
   "outputs": [
    {
     "data": {
      "text/plain": [
       "('A common human skin tumour is caused by activating mutations in beta-catenin.\\nWNT signalling orchestrates a number of developmental programs. In response to this stimulus, cytoplasmic beta-catenin (encoded by CTNNB1) is stabilized, enabling downstream transcriptional activation by members of the LEF/TCF family. One of the target genes for beta-catenin/TCF encodes c-MYC, explaining why constitutive activation of the WNT pathway can lead to cancer, particularly in the colon. Most colon cancers arise from mutations in the gene encoding adenomatous polyposis coli (APC), a protein required for ubiquitin-mediated degradation of beta-catenin, but a small percentage of colon and some other cancers harbour beta-catenin-stabilizing mutations. Recently, we discovered that transgenic mice expressing an activated beta-catenin are predisposed to developing skin tumours resembling pilomatricomas. Given that the skin of these adult mice also exhibits signs of de novo hair-follicle morphogenesis, we wondered whether human pilomatricomas might originate from hair matrix cells and whether they might possess beta-catenin-stabilizing mutations. Here, we explore the cell origin and aetiology of this common human skin tumour. We found nuclear LEF-1 in the dividing tumour cells, providing biochemical evidence that pilomatricomas are derived from hair matrix cells. At least 75% of these tumours possess mutations affecting the amino-terminal segment, normally involved in phosphorylation-dependent, ubiquitin-mediated degradation of the protein. This percentage of CTNNB1 mutations is greater than in all other human tumours examined thus far, and directly implicates beta-catenin/LEF misregulation as the major cause of hair matrix cell tumorigenesis in humans.. ',\n",
       " {'entities': [(15, 26, 'DiseaseClass'),\n",
       "   (443, 449, 'DiseaseClass'),\n",
       "   (483, 496, 'DiseaseClass'),\n",
       "   (539, 565, 'SpecificDisease'),\n",
       "   (567, 570, 'SpecificDisease'),\n",
       "   (670, 698, 'CompositeMention'),\n",
       "   (855, 867, 'DiseaseClass'),\n",
       "   (879, 893, 'SpecificDisease'),\n",
       "   (1021, 1035, 'SpecificDisease'),\n",
       "   (1210, 1221, 'DiseaseClass'),\n",
       "   (1262, 1268, 'Modifier'),\n",
       "   (1312, 1326, 'SpecificDisease'),\n",
       "   (1385, 1392, 'DiseaseClass'),\n",
       "   (1615, 1622, 'DiseaseClass')]})"
      ]
     },
     "execution_count": 3,
     "metadata": {},
     "output_type": "execute_result"
    }
   ],
   "source": [
    "train_data[0]"
   ]
  },
  {
   "cell_type": "markdown",
   "metadata": {},
   "source": [
    "## 1. Word tokenization\n",
    "\n",
    "[Word tokenization refresher](https://github.com/wangz10/text-classification/blob/master/Main.ipynb)"
   ]
  },
  {
   "cell_type": "code",
   "execution_count": 4,
   "metadata": {},
   "outputs": [
    {
     "name": "stdout",
     "output_type": "stream",
     "text": [
      "['A', 'common', 'human', 'skin', 'tumour', 'is', 'caused', 'by', 'activating', 'mutations', 'in', 'beta-catenin', '.', 'WNT', 'signalling', 'orchestrates', 'a', 'number', 'of', 'developmental', 'programs', '.', 'In', 'response', 'to', 'this', 'stimulus', ',', 'cytoplasmic', 'beta-catenin', '(', 'encoded', 'by', 'CTNNB1', ')', 'is', 'stabilized', ',', 'enabling', 'downstream', 'transcriptional', 'activation', 'by', 'members', 'of', 'the', 'LEF/TCF', 'family', '.', 'One', 'of', 'the', 'target', 'genes', 'for', 'beta-catenin/TCF', 'encodes', 'c-MYC', ',', 'explaining', 'why', 'constitutive', 'activation', 'of', 'the', 'WNT', 'pathway', 'can', 'lead', 'to', 'cancer', ',', 'particularly', 'in', 'the', 'colon', '.', 'Most', 'colon', 'cancers', 'arise', 'from', 'mutations', 'in', 'the', 'gene', 'encoding', 'adenomatous', 'polyposis', 'coli', '(', 'APC', ')', ',', 'a', 'protein', 'required', 'for', 'ubiquitin-mediated', 'degradation', 'of', 'beta-catenin', ',', 'but', 'a', 'small', 'percentage', 'of', 'colon', 'and', 'some', 'other', 'cancers', 'harbour', 'beta-catenin-stabilizing', 'mutations', '.', 'Recently', ',', 'we', 'discovered', 'that', 'transgenic', 'mice', 'expressing', 'an', 'activated', 'beta-catenin', 'are', 'predisposed', 'to', 'developing', 'skin', 'tumours', 'resembling', 'pilomatricomas', '.', 'Given', 'that', 'the', 'skin', 'of', 'these', 'adult', 'mice', 'also', 'exhibits', 'signs', 'of', 'de', 'novo', 'hair-follicle', 'morphogenesis', ',', 'we', 'wondered', 'whether', 'human', 'pilomatricomas', 'might', 'originate', 'from', 'hair', 'matrix', 'cells', 'and', 'whether', 'they', 'might', 'possess', 'beta-catenin-stabilizing', 'mutations', '.', 'Here', ',', 'we', 'explore', 'the', 'cell', 'origin', 'and', 'aetiology', 'of', 'this', 'common', 'human', 'skin', 'tumour', '.', 'We', 'found', 'nuclear', 'LEF-1', 'in', 'the', 'dividing', 'tumour', 'cells', ',', 'providing', 'biochemical', 'evidence', 'that', 'pilomatricomas', 'are', 'derived', 'from', 'hair', 'matrix', 'cells', '.', 'At', 'least', '75', '%', 'of', 'these', 'tumours', 'possess', 'mutations', 'affecting', 'the', 'amino-terminal', 'segment', ',', 'normally', 'involved', 'in', 'phosphorylation-dependent', ',', 'ubiquitin-mediated', 'degradation', 'of', 'the', 'protein', '.', 'This', 'percentage', 'of', 'CTNNB1', 'mutations', 'is', 'greater', 'than', 'in', 'all', 'other', 'human', 'tumours', 'examined', 'thus', 'far', ',', 'and', 'directly', 'implicates', 'beta-catenin/LEF', 'misregulation', 'as', 'the', 'major', 'cause', 'of', 'hair', 'matrix', 'cell', 'tumorigenesis', 'in', 'humans..']\n"
     ]
    }
   ],
   "source": [
    "tokens = nltk.word_tokenize(train_data[0][0])\n",
    "print (tokens)"
   ]
  },
  {
   "cell_type": "markdown",
   "metadata": {},
   "source": [
    "## 2. Part-of-Speech (POS) Tagging\n",
    "\n",
    "Label a sentence (a sequence of words or tokens) with tags like ADJECTIVE, NOUN, PREPOSITION, VERB, ADVERB and etc."
   ]
  },
  {
   "cell_type": "code",
   "execution_count": 5,
   "metadata": {},
   "outputs": [
    {
     "data": {
      "text/plain": [
       "[('A', 'DT'),\n",
       " ('common', 'JJ'),\n",
       " ('human', 'JJ'),\n",
       " ('skin', 'FW'),\n",
       " ('tumour', 'NN'),\n",
       " ('is', 'VBZ'),\n",
       " ('caused', 'VBN'),\n",
       " ('by', 'IN'),\n",
       " ('activating', 'VBG'),\n",
       " ('mutations', 'NNS'),\n",
       " ('in', 'IN'),\n",
       " ('beta-catenin', 'NN'),\n",
       " ('.', '.')]"
      ]
     },
     "execution_count": 5,
     "metadata": {},
     "output_type": "execute_result"
    }
   ],
   "source": [
    "pos_tags = nltk.pos_tag(tokens[:13])\n",
    "pos_tags"
   ]
  },
  {
   "cell_type": "markdown",
   "metadata": {},
   "source": [
    "**POS tag list**:\n",
    "\n",
    "`\n",
    "CC\tcoordinating conjunction\n",
    "CD\tcardinal digit\n",
    "DT\tdeterminer\n",
    "EX\texistential there (like: \"there is\" ... think of it like \"there exists\")\n",
    "FW\tforeign word\n",
    "IN\tpreposition/subordinating conjunction\n",
    "JJ\tadjective\t'big'\n",
    "JJR\tadjective, comparative\t'bigger'\n",
    "JJS\tadjective, superlative\t'biggest'\n",
    "LS\tlist marker\t1)\n",
    "MD\tmodal\tcould, will\n",
    "NN\tnoun, singular 'desk'\n",
    "NNS\tnoun plural\t'desks'\n",
    "NNP\tproper noun, singular\t'Harrison'\n",
    "NNPS\tproper noun, plural\t'Americans'\n",
    "PDT\tpredeterminer\t'all the kids'\n",
    "POS\tpossessive ending\tparent's\n",
    "PRP\tpersonal pronoun\tI, he, she\n",
    "PRP$\tpossessive pronoun\tmy, his, hers\n",
    "RB\tadverb\tvery, silently,\n",
    "RBR\tadverb, comparative\tbetter\n",
    "RBS\tadverb, superlative\tbest\n",
    "RP\tparticle\tgive up\n",
    "TO\tto\tgo 'to' the store.\n",
    "UH\tinterjection\terrrrrrrrm\n",
    "VB\tverb, base form\ttake\n",
    "VBD\tverb, past tense\ttook\n",
    "VBG\tverb, gerund/present participle\ttaking\n",
    "VBN\tverb, past participle\ttaken\n",
    "VBP\tverb, sing. present, non-3d\ttake\n",
    "VBZ\tverb, 3rd person sing. present\ttakes\n",
    "WDT\twh-determiner\twhich\n",
    "WP\twh-pronoun\twho, what\n",
    "WP$\tpossessive wh-pronoun\twhose\n",
    "WRB\twh-abverb\twhere, when\n",
    "`"
   ]
  },
  {
   "cell_type": "code",
   "execution_count": 6,
   "metadata": {},
   "outputs": [],
   "source": [
    "# Convert data to annotated tokens\n",
    "train_data_annot = datasets.convert_to_annot_tokens(train_data)\n",
    "test_data_annot = datasets.convert_to_annot_tokens(test_data)"
   ]
  },
  {
   "cell_type": "code",
   "execution_count": 7,
   "metadata": {},
   "outputs": [
    {
     "data": {
      "text/plain": [
       "[('A', 'DT', 'IR'),\n",
       " ('common', 'JJ', 'IR'),\n",
       " ('human', 'JJ', 'IR'),\n",
       " ('skin', 'FW', 'IR'),\n",
       " ('tumour', 'NN', 'Modifier'),\n",
       " ('is', 'VBZ', 'IR'),\n",
       " ('caused', 'VBN', 'IR'),\n",
       " ('by', 'IN', 'IR'),\n",
       " ('activating', 'VBG', 'IR'),\n",
       " ('mutations', 'NNS', 'IR'),\n",
       " ('in', 'IN', 'IR'),\n",
       " ('beta-catenin', 'NN', 'IR'),\n",
       " ('.', '.', 'IR'),\n",
       " ('WNT', 'NNP', 'IR'),\n",
       " ('signalling', 'VBG', 'IR'),\n",
       " ('orchestrates', 'VBZ', 'IR'),\n",
       " ('a', 'DT', 'IR'),\n",
       " ('number', 'NN', 'IR'),\n",
       " ('of', 'IN', 'IR'),\n",
       " ('developmental', 'JJ', 'IR'),\n",
       " ('programs', 'NNS', 'IR'),\n",
       " ('.', '.', 'IR'),\n",
       " ('In', 'IN', 'IR'),\n",
       " ('response', 'NN', 'IR'),\n",
       " ('to', 'TO', 'IR'),\n",
       " ('this', 'DT', 'IR'),\n",
       " ('stimulus', 'NN', 'IR'),\n",
       " (',', ',', 'IR'),\n",
       " ('cytoplasmic', 'JJ', 'IR'),\n",
       " ('beta-catenin', 'NN', 'IR'),\n",
       " ('(', '(', 'IR'),\n",
       " ('encoded', 'VBN', 'IR'),\n",
       " ('by', 'IN', 'IR'),\n",
       " ('CTNNB1', 'NNP', 'IR'),\n",
       " (')', ')', 'IR'),\n",
       " ('is', 'VBZ', 'IR'),\n",
       " ('stabilized', 'VBN', 'IR'),\n",
       " (',', ',', 'IR'),\n",
       " ('enabling', 'VBG', 'IR'),\n",
       " ('downstream', 'JJ', 'IR'),\n",
       " ('transcriptional', 'JJ', 'IR'),\n",
       " ('activation', 'NN', 'IR'),\n",
       " ('by', 'IN', 'IR'),\n",
       " ('members', 'NNS', 'IR'),\n",
       " ('of', 'IN', 'IR'),\n",
       " ('the', 'DT', 'IR'),\n",
       " ('LEF/TCF', 'NNP', 'IR'),\n",
       " ('family', 'NN', 'IR'),\n",
       " ('.', '.', 'IR'),\n",
       " ('One', 'CD', 'IR'),\n",
       " ('of', 'IN', 'IR'),\n",
       " ('the', 'DT', 'IR'),\n",
       " ('target', 'NN', 'IR'),\n",
       " ('genes', 'NNS', 'IR'),\n",
       " ('for', 'IN', 'IR'),\n",
       " ('beta-catenin/TCF', 'JJ', 'IR'),\n",
       " ('encodes', 'NNS', 'IR'),\n",
       " ('c-MYC', 'JJ', 'IR'),\n",
       " (',', ',', 'IR'),\n",
       " ('explaining', 'VBG', 'IR'),\n",
       " ('why', 'WRB', 'IR'),\n",
       " ('constitutive', 'JJ', 'IR'),\n",
       " ('activation', 'NN', 'IR'),\n",
       " ('of', 'IN', 'IR'),\n",
       " ('the', 'DT', 'IR'),\n",
       " ('WNT', 'NNP', 'IR'),\n",
       " ('pathway', 'NN', 'IR'),\n",
       " ('can', 'MD', 'IR'),\n",
       " ('lead', 'VB', 'IR'),\n",
       " ('to', 'TO', 'IR'),\n",
       " ('cancer', 'NN', 'DiseaseClass'),\n",
       " (',', ',', 'IR'),\n",
       " ('particularly', 'RB', 'IR'),\n",
       " ('in', 'IN', 'IR'),\n",
       " ('the', 'DT', 'IR'),\n",
       " ('colon', 'NN', 'IR'),\n",
       " ('.', '.', 'IR'),\n",
       " ('Most', 'JJS', 'IR'),\n",
       " ('colon', 'NN', 'IR'),\n",
       " ('cancers', 'NNS', 'IR'),\n",
       " ('arise', 'VBP', 'IR'),\n",
       " ('from', 'IN', 'IR'),\n",
       " ('mutations', 'NNS', 'IR'),\n",
       " ('in', 'IN', 'IR'),\n",
       " ('the', 'DT', 'IR'),\n",
       " ('gene', 'NN', 'IR'),\n",
       " ('encoding', 'VBG', 'IR'),\n",
       " ('adenomatous', 'JJ', 'IR'),\n",
       " ('polyposis', 'NN', 'IR'),\n",
       " ('coli', 'NN', 'IR'),\n",
       " ('(', '(', 'IR'),\n",
       " ('APC', 'NNP', 'SpecificDisease'),\n",
       " (')', ')', 'IR'),\n",
       " (',', ',', 'IR'),\n",
       " ('a', 'DT', 'IR'),\n",
       " ('protein', 'NN', 'IR'),\n",
       " ('required', 'VBN', 'IR'),\n",
       " ('for', 'IN', 'IR'),\n",
       " ('ubiquitin-mediated', 'JJ', 'IR'),\n",
       " ('degradation', 'NN', 'IR'),\n",
       " ('of', 'IN', 'IR'),\n",
       " ('beta-catenin', 'NN', 'IR'),\n",
       " (',', ',', 'IR'),\n",
       " ('but', 'CC', 'IR'),\n",
       " ('a', 'DT', 'IR'),\n",
       " ('small', 'JJ', 'IR'),\n",
       " ('percentage', 'NN', 'IR'),\n",
       " ('of', 'IN', 'IR'),\n",
       " ('colon', 'NN', 'IR'),\n",
       " ('and', 'CC', 'IR'),\n",
       " ('some', 'DT', 'IR'),\n",
       " ('other', 'JJ', 'IR'),\n",
       " ('cancers', 'NNS', 'IR'),\n",
       " ('harbour', 'VBP', 'IR'),\n",
       " ('beta-catenin-stabilizing', 'JJ', 'IR'),\n",
       " ('mutations', 'NNS', 'IR'),\n",
       " ('.', '.', 'IR'),\n",
       " ('Recently', 'RB', 'IR'),\n",
       " (',', ',', 'IR'),\n",
       " ('we', 'PRP', 'IR'),\n",
       " ('discovered', 'VBD', 'IR'),\n",
       " ('that', 'IN', 'IR'),\n",
       " ('transgenic', 'JJ', 'IR'),\n",
       " ('mice', 'NN', 'IR'),\n",
       " ('expressing', 'VBG', 'IR'),\n",
       " ('an', 'DT', 'IR'),\n",
       " ('activated', 'VBN', 'IR'),\n",
       " ('beta-catenin', 'NN', 'IR'),\n",
       " ('are', 'VBP', 'IR'),\n",
       " ('predisposed', 'VBN', 'IR'),\n",
       " ('to', 'TO', 'IR'),\n",
       " ('developing', 'VBG', 'IR'),\n",
       " ('skin', 'JJ', 'IR'),\n",
       " ('tumours', 'NNS', 'DiseaseClass'),\n",
       " ('resembling', 'VBG', 'IR'),\n",
       " ('pilomatricomas', 'NN', 'SpecificDisease'),\n",
       " ('.', '.', 'IR'),\n",
       " ('Given', 'VBN', 'IR'),\n",
       " ('that', 'IN', 'IR'),\n",
       " ('the', 'DT', 'IR'),\n",
       " ('skin', 'NN', 'IR'),\n",
       " ('of', 'IN', 'IR'),\n",
       " ('these', 'DT', 'IR'),\n",
       " ('adult', 'NN', 'IR'),\n",
       " ('mice', 'NN', 'IR'),\n",
       " ('also', 'RB', 'IR'),\n",
       " ('exhibits', 'VBZ', 'IR'),\n",
       " ('signs', 'NNS', 'IR'),\n",
       " ('of', 'IN', 'IR'),\n",
       " ('de', 'FW', 'IR'),\n",
       " ('novo', 'FW', 'IR'),\n",
       " ('hair-follicle', 'NN', 'IR'),\n",
       " ('morphogenesis', 'NN', 'IR'),\n",
       " (',', ',', 'IR'),\n",
       " ('we', 'PRP', 'IR'),\n",
       " ('wondered', 'VBD', 'IR'),\n",
       " ('whether', 'IN', 'IR'),\n",
       " ('human', 'JJ', 'IR'),\n",
       " ('pilomatricomas', 'NN', 'SpecificDisease'),\n",
       " ('might', 'MD', 'IR'),\n",
       " ('originate', 'VB', 'IR'),\n",
       " ('from', 'IN', 'IR'),\n",
       " ('hair', 'NN', 'IR'),\n",
       " ('matrix', 'NN', 'IR'),\n",
       " ('cells', 'NNS', 'IR'),\n",
       " ('and', 'CC', 'IR'),\n",
       " ('whether', 'IN', 'IR'),\n",
       " ('they', 'PRP', 'IR'),\n",
       " ('might', 'MD', 'IR'),\n",
       " ('possess', 'VB', 'IR'),\n",
       " ('beta-catenin-stabilizing', 'JJ', 'IR'),\n",
       " ('mutations', 'NNS', 'IR'),\n",
       " ('.', '.', 'IR'),\n",
       " ('Here', 'RB', 'IR'),\n",
       " (',', ',', 'IR'),\n",
       " ('we', 'PRP', 'IR'),\n",
       " ('explore', 'VBP', 'IR'),\n",
       " ('the', 'DT', 'IR'),\n",
       " ('cell', 'NN', 'IR'),\n",
       " ('origin', 'NN', 'IR'),\n",
       " ('and', 'CC', 'IR'),\n",
       " ('aetiology', 'NN', 'IR'),\n",
       " ('of', 'IN', 'IR'),\n",
       " ('this', 'DT', 'IR'),\n",
       " ('common', 'JJ', 'IR'),\n",
       " ('human', 'JJ', 'IR'),\n",
       " ('skin', 'FW', 'IR'),\n",
       " ('tumour', 'NN', 'Modifier'),\n",
       " ('.', '.', 'IR'),\n",
       " ('We', 'PRP', 'IR'),\n",
       " ('found', 'VBD', 'IR'),\n",
       " ('nuclear', 'JJ', 'IR'),\n",
       " ('LEF-1', 'NNP', 'IR'),\n",
       " ('in', 'IN', 'IR'),\n",
       " ('the', 'DT', 'IR'),\n",
       " ('dividing', 'VBG', 'IR'),\n",
       " ('tumour', 'NN', 'Modifier'),\n",
       " ('cells', 'NNS', 'IR'),\n",
       " (',', ',', 'IR'),\n",
       " ('providing', 'VBG', 'IR'),\n",
       " ('biochemical', 'JJ', 'IR'),\n",
       " ('evidence', 'NN', 'IR'),\n",
       " ('that', 'IN', 'IR'),\n",
       " ('pilomatricomas', 'NN', 'SpecificDisease'),\n",
       " ('are', 'VBP', 'IR'),\n",
       " ('derived', 'VBN', 'IR'),\n",
       " ('from', 'IN', 'IR'),\n",
       " ('hair', 'NN', 'IR'),\n",
       " ('matrix', 'NN', 'IR'),\n",
       " ('cells', 'NNS', 'IR'),\n",
       " ('.', '.', 'IR'),\n",
       " ('At', 'IN', 'IR'),\n",
       " ('least', 'JJS', 'IR'),\n",
       " ('75', 'CD', 'IR'),\n",
       " ('%', 'NN', 'IR'),\n",
       " ('of', 'IN', 'IR'),\n",
       " ('these', 'DT', 'IR'),\n",
       " ('tumours', 'NNS', 'DiseaseClass'),\n",
       " ('possess', 'VBP', 'IR'),\n",
       " ('mutations', 'NNS', 'IR'),\n",
       " ('affecting', 'VBG', 'IR'),\n",
       " ('the', 'DT', 'IR'),\n",
       " ('amino-terminal', 'JJ', 'IR'),\n",
       " ('segment', 'NN', 'IR'),\n",
       " (',', ',', 'IR'),\n",
       " ('normally', 'RB', 'IR'),\n",
       " ('involved', 'VBN', 'IR'),\n",
       " ('in', 'IN', 'IR'),\n",
       " ('phosphorylation-dependent', 'JJ', 'IR'),\n",
       " (',', ',', 'IR'),\n",
       " ('ubiquitin-mediated', 'JJ', 'IR'),\n",
       " ('degradation', 'NN', 'IR'),\n",
       " ('of', 'IN', 'IR'),\n",
       " ('the', 'DT', 'IR'),\n",
       " ('protein', 'NN', 'IR'),\n",
       " ('.', '.', 'IR'),\n",
       " ('This', 'DT', 'IR'),\n",
       " ('percentage', 'NN', 'IR'),\n",
       " ('of', 'IN', 'IR'),\n",
       " ('CTNNB1', 'NNP', 'IR'),\n",
       " ('mutations', 'NNS', 'IR'),\n",
       " ('is', 'VBZ', 'IR'),\n",
       " ('greater', 'JJR', 'IR'),\n",
       " ('than', 'IN', 'IR'),\n",
       " ('in', 'IN', 'IR'),\n",
       " ('all', 'DT', 'IR'),\n",
       " ('other', 'JJ', 'IR'),\n",
       " ('human', 'JJ', 'IR'),\n",
       " ('tumours', 'NNS', 'DiseaseClass'),\n",
       " ('examined', 'VBD', 'IR'),\n",
       " ('thus', 'RB', 'IR'),\n",
       " ('far', 'RB', 'IR'),\n",
       " (',', ',', 'IR'),\n",
       " ('and', 'CC', 'IR'),\n",
       " ('directly', 'RB', 'IR'),\n",
       " ('implicates', 'VBZ', 'IR'),\n",
       " ('beta-catenin/LEF', 'JJ', 'IR'),\n",
       " ('misregulation', 'NN', 'IR'),\n",
       " ('as', 'IN', 'IR'),\n",
       " ('the', 'DT', 'IR'),\n",
       " ('major', 'JJ', 'IR'),\n",
       " ('cause', 'NN', 'IR'),\n",
       " ('of', 'IN', 'IR'),\n",
       " ('hair', 'NN', 'IR'),\n",
       " ('matrix', 'NN', 'IR'),\n",
       " ('cell', 'NN', 'IR'),\n",
       " ('tumorigenesis', 'NN', 'IR'),\n",
       " ('in', 'IN', 'IR'),\n",
       " ('humans..', 'NN', 'IR')]"
      ]
     },
     "execution_count": 7,
     "metadata": {},
     "output_type": "execute_result"
    }
   ],
   "source": [
    "train_data_annot[0]"
   ]
  },
  {
   "cell_type": "markdown",
   "metadata": {},
   "source": [
    "## 1. Synonym dictionary for NER\n",
    "\n",
    "Use a dictionary to store every entities and their types encountered in the training set. Then do lookups in the prediction phase."
   ]
  },
  {
   "cell_type": "code",
   "execution_count": 8,
   "metadata": {},
   "outputs": [
    {
     "name": "stdout",
     "output_type": "stream",
     "text": [
      "369\n"
     ]
    }
   ],
   "source": [
    "d_train = {}\n",
    "counter = Counter()\n",
    "for tokens in train_data_annot:\n",
    "    for token, pos, ent_type in tokens:\n",
    "        if ent_type != 'IR':\n",
    "            d_train[token.lower()] = ent_type\n",
    "            counter.update([(token, ent_type)])\n",
    "            \n",
    "print (len(d_train))"
   ]
  },
  {
   "cell_type": "code",
   "execution_count": 9,
   "metadata": {},
   "outputs": [
    {
     "data": {
      "text/plain": [
       "[(('APC', 'Modifier'), 117),\n",
       " (('DMD', 'Modifier'), 73),\n",
       " (('DM', 'Modifier'), 68),\n",
       " (('DM', 'SpecificDisease'), 57),\n",
       " (('tumors', 'DiseaseClass'), 53),\n",
       " (('cancer', 'Modifier'), 50),\n",
       " (('VHL', 'Modifier'), 49),\n",
       " (('PWS', 'SpecificDisease'), 48),\n",
       " (('cancer', 'DiseaseClass'), 46),\n",
       " (('ALD', 'SpecificDisease'), 46),\n",
       " (('ALD', 'Modifier'), 41),\n",
       " (('TSD', 'Modifier'), 34),\n",
       " (('WAS', 'SpecificDisease'), 34),\n",
       " (('tumor', 'Modifier'), 32),\n",
       " (('DMD', 'SpecificDisease'), 29),\n",
       " (('WAS', 'Modifier'), 29),\n",
       " (('aniridia', 'SpecificDisease'), 29),\n",
       " (('HD', 'SpecificDisease'), 28),\n",
       " (('FAP', 'Modifier'), 27),\n",
       " (('PKU', 'Modifier'), 27)]"
      ]
     },
     "execution_count": 9,
     "metadata": {},
     "output_type": "execute_result"
    }
   ],
   "source": [
    "counter.most_common(20)"
   ]
  },
  {
   "cell_type": "code",
   "execution_count": 10,
   "metadata": {},
   "outputs": [],
   "source": [
    "# Extract the true labels for the test set\n",
    "y_test = [[item[2] for item in tokens] for tokens in test_data_annot]"
   ]
  },
  {
   "cell_type": "code",
   "execution_count": 11,
   "metadata": {},
   "outputs": [],
   "source": [
    "# make prediction using the synonym dictionary\n",
    "y_test_pred_synonyms = []\n",
    "for tokens in test_data_annot:\n",
    "    preds = [d_train.get(token.lower(), 'IR') for token, pos, _ in tokens]\n",
    "    y_test_pred_synonyms.append(preds)"
   ]
  },
  {
   "cell_type": "code",
   "execution_count": 12,
   "metadata": {},
   "outputs": [
    {
     "name": "stdout",
     "output_type": "stream",
     "text": [
      "0.36940441457101464\n"
     ]
    }
   ],
   "source": [
    "labels = sorted(set(d_train.values()))\n",
    "f1_score = metrics.flat_f1_score(y_test, y_test_pred_synonyms, \n",
    "                                 average='weighted', labels=labels)\n",
    "print (f1_score)"
   ]
  },
  {
   "cell_type": "code",
   "execution_count": 13,
   "metadata": {},
   "outputs": [
    {
     "name": "stdout",
     "output_type": "stream",
     "text": [
      "                 precision    recall  f1-score   support\n",
      "\n",
      "   DiseaseClass     0.2404    0.7213    0.3607        61\n",
      "       Modifier     0.2148    0.4741    0.2957       251\n",
      "SpecificDisease     0.5246    0.3887    0.4465       247\n",
      "\n",
      "    avg / total     0.3545    0.4633    0.3694       559\n",
      "\n"
     ]
    }
   ],
   "source": [
    "print(metrics.flat_classification_report(\n",
    "    y_test, y_test_pred_synonyms, labels=labels, digits=4\n",
    "))"
   ]
  },
  {
   "cell_type": "markdown",
   "metadata": {},
   "source": [
    "## 2. Mannually extract features for tokens for rule-based and Machine Learning based NERs\n",
    "\n",
    "Features:\n",
    "- word identity\n",
    "- word suffix\n",
    "- word shape \n",
    "- POS tag\n",
    "- features from surrounding words \n"
   ]
  },
  {
   "cell_type": "code",
   "execution_count": 14,
   "metadata": {},
   "outputs": [],
   "source": [
    "def word2features(sent, i):\n",
    "    word = sent[i][0]\n",
    "    postag = sent[i][1]\n",
    "\n",
    "    features = {\n",
    "        'bias': 1.0,\n",
    "        'word.lower()': word.lower(),\n",
    "        'word[-3:]': word[-3:],\n",
    "        'word[-2:]': word[-2:],\n",
    "        'word.isupper()': word.isupper(),\n",
    "        'word.istitle()': word.istitle(),\n",
    "        'word.isdigit()': word.isdigit(),\n",
    "        'postag': postag,\n",
    "        'postag[:2]': postag[:2],\n",
    "    }\n",
    "    if i > 0:\n",
    "        word1 = sent[i-1][0]\n",
    "        postag1 = sent[i-1][1]\n",
    "        features.update({\n",
    "            '-1:word.lower()': word1.lower(),\n",
    "            '-1:word.istitle()': word1.istitle(),\n",
    "            '-1:word.isupper()': word1.isupper(),\n",
    "            '-1:postag': postag1,\n",
    "            '-1:postag[:2]': postag1[:2],\n",
    "        })\n",
    "    else:\n",
    "        features['BOS'] = True\n",
    "\n",
    "    if i < len(sent)-1:\n",
    "        word1 = sent[i+1][0]\n",
    "        postag1 = sent[i+1][1]\n",
    "        features.update({\n",
    "            '+1:word.lower()': word1.lower(),\n",
    "            '+1:word.istitle()': word1.istitle(),\n",
    "            '+1:word.isupper()': word1.isupper(),\n",
    "            '+1:postag': postag1,\n",
    "            '+1:postag[:2]': postag1[:2],\n",
    "        })\n",
    "    else:\n",
    "        features['EOS'] = True\n",
    "\n",
    "    return features\n",
    "\n",
    "\n",
    "def sent2features(sent):\n",
    "    return [word2features(sent, i) for i in range(len(sent))]\n",
    "\n",
    "def sent2labels(sent):\n",
    "    return [label for token, postag, label in sent]\n",
    "\n",
    "def sent2tokens(sent):\n",
    "    return [token for token, postag, label in sent]"
   ]
  },
  {
   "cell_type": "code",
   "execution_count": 15,
   "metadata": {},
   "outputs": [
    {
     "data": {
      "text/plain": [
       "{'bias': 1.0,\n",
       " 'word.lower()': 'a',\n",
       " 'word[-3:]': 'A',\n",
       " 'word[-2:]': 'A',\n",
       " 'word.isupper()': True,\n",
       " 'word.istitle()': True,\n",
       " 'word.isdigit()': False,\n",
       " 'postag': 'DT',\n",
       " 'postag[:2]': 'DT',\n",
       " 'BOS': True,\n",
       " '+1:word.lower()': 'common',\n",
       " '+1:word.istitle()': False,\n",
       " '+1:word.isupper()': False,\n",
       " '+1:postag': 'JJ',\n",
       " '+1:postag[:2]': 'JJ'}"
      ]
     },
     "execution_count": 15,
     "metadata": {},
     "output_type": "execute_result"
    }
   ],
   "source": [
    "sent2features(train_data_annot[0])[0]"
   ]
  },
  {
   "cell_type": "code",
   "execution_count": 16,
   "metadata": {},
   "outputs": [],
   "source": [
    "X_train = [sent2features(s) for s in train_data_annot]\n",
    "y_train = [sent2labels(s) for s in train_data_annot]\n",
    "\n",
    "X_test = [sent2features(s) for s in test_data_annot]\n",
    "y_test = [sent2labels(s) for s in test_data_annot]"
   ]
  },
  {
   "cell_type": "markdown",
   "metadata": {},
   "source": [
    "## 3. Rule-based NER"
   ]
  },
  {
   "cell_type": "code",
   "execution_count": 17,
   "metadata": {},
   "outputs": [],
   "source": [
    "# Define some simple rules: \n",
    "def rule1(features):\n",
    "    '''features is a list features corresponding to tokens in a doc.\n",
    "    Predict any pos-tag NN* to be a SpecificDisease        \n",
    "    '''\n",
    "    preds = [None] * len(features)\n",
    "    for i in range(len(features)):\n",
    "        if features[i]['postag'].startswith('NN'):\n",
    "            preds[i] = 'SpecificDisease'\n",
    "        else:\n",
    "            preds[i] = 'IR'\n",
    "    return preds\n",
    "\n",
    "def rule2(features):\n",
    "    '''Predict any pos-tag NN* following a determiner/adjectives/noun to be a SpecificDisease. \n",
    "    '''\n",
    "    preds = [None] * len(features)\n",
    "    for i in range(len(features)):\n",
    "        if features[i]['postag'].startswith('NN') and \\\n",
    "            features[i].get('-1:postag', 'NN') in ('DT', 'JJ', 'NN'): # determiner, adjectives and noun\n",
    "            preds[i] = 'SpecificDisease'\n",
    "        else:\n",
    "            preds[i] = 'IR'\n",
    "    return preds"
   ]
  },
  {
   "cell_type": "code",
   "execution_count": 18,
   "metadata": {},
   "outputs": [
    {
     "name": "stdout",
     "output_type": "stream",
     "text": [
      "                 precision    recall  f1-score   support\n",
      "\n",
      "   DiseaseClass     0.0000    0.0000    0.0000        61\n",
      "       Modifier     0.0000    0.0000    0.0000       251\n",
      "SpecificDisease     0.0325    0.9676    0.0629       247\n",
      "\n",
      "    avg / total     0.0144    0.4275    0.0278       559\n",
      "\n"
     ]
    },
    {
     "name": "stderr",
     "output_type": "stream",
     "text": [
      "/Users/zichen/venv3/lib/python3.6/site-packages/sklearn/metrics/classification.py:1135: UndefinedMetricWarning: Precision and F-score are ill-defined and being set to 0.0 in labels with no predicted samples.\n",
      "  'precision', 'predicted', average, warn_for)\n"
     ]
    }
   ],
   "source": [
    "y_pred_rule1 = [rule1(x_test) for x_test in X_test]\n",
    "print(metrics.flat_classification_report(\n",
    "    y_test, y_pred_rule1, labels=labels, digits=4\n",
    "))"
   ]
  },
  {
   "cell_type": "code",
   "execution_count": 19,
   "metadata": {},
   "outputs": [
    {
     "name": "stdout",
     "output_type": "stream",
     "text": [
      "                 precision    recall  f1-score   support\n",
      "\n",
      "   DiseaseClass     0.0000    0.0000    0.0000        61\n",
      "       Modifier     0.0000    0.0000    0.0000       251\n",
      "SpecificDisease     0.0165    0.2713    0.0312       247\n",
      "\n",
      "    avg / total     0.0073    0.1199    0.0138       559\n",
      "\n"
     ]
    },
    {
     "name": "stderr",
     "output_type": "stream",
     "text": [
      "/Users/zichen/venv3/lib/python3.6/site-packages/sklearn/metrics/classification.py:1135: UndefinedMetricWarning: Precision and F-score are ill-defined and being set to 0.0 in labels with no predicted samples.\n",
      "  'precision', 'predicted', average, warn_for)\n"
     ]
    }
   ],
   "source": [
    "y_pred_rule2 = [rule2(x_test) for x_test in X_test]\n",
    "print(metrics.flat_classification_report(\n",
    "    y_test, y_pred_rule2, labels=labels, digits=4\n",
    "))"
   ]
  },
  {
   "cell_type": "markdown",
   "metadata": {},
   "source": [
    "## 4. Conditional random fields (CRFs)\n",
    "\n",
    "- A type of discriminative undirected probabilistic graphical model\n",
    "![](https://i.stack.imgur.com/khcnl.png)\n",
    "\n",
    "\n",
    "(grey: X, white: Y)\n",
    "\n",
    "- A sequence of Logistic Regression models that uses the features and labels from surrounding tokens to predict the label for a given token."
   ]
  },
  {
   "cell_type": "code",
   "execution_count": 20,
   "metadata": {},
   "outputs": [
    {
     "data": {
      "text/plain": [
       "CRF(algorithm='lbfgs', all_possible_states=None,\n",
       "  all_possible_transitions=True, averaging=None, c=None, c1=0.1, c2=0.1,\n",
       "  calibration_candidates=None, calibration_eta=None,\n",
       "  calibration_max_trials=None, calibration_rate=None,\n",
       "  calibration_samples=None, delta=None, epsilon=None, error_sensitive=None,\n",
       "  gamma=None, keep_tempfiles=None, linesearch=None, max_iterations=100,\n",
       "  max_linesearch=None, min_freq=None, model_filename=None,\n",
       "  num_memories=None, pa_type=None, period=None, trainer_cls=None,\n",
       "  variance=None, verbose=False)"
      ]
     },
     "execution_count": 20,
     "metadata": {},
     "output_type": "execute_result"
    }
   ],
   "source": [
    "crf = sklearn_crfsuite.CRF(\n",
    "    algorithm='lbfgs',\n",
    "    c1=0.1,\n",
    "    c2=0.1,\n",
    "    max_iterations=100,\n",
    "    all_possible_transitions=True\n",
    ")\n",
    "crf.fit(X_train, y_train)"
   ]
  },
  {
   "cell_type": "code",
   "execution_count": 21,
   "metadata": {},
   "outputs": [
    {
     "name": "stdout",
     "output_type": "stream",
     "text": [
      "0.5161013019726128\n"
     ]
    }
   ],
   "source": [
    "y_pred_crf = crf.predict(X_test)\n",
    "f1_score = metrics.flat_f1_score(y_test, y_pred_crf,\n",
    "                                 average='weighted', labels=labels)\n",
    "print (f1_score)"
   ]
  },
  {
   "cell_type": "code",
   "execution_count": 22,
   "metadata": {},
   "outputs": [
    {
     "name": "stdout",
     "output_type": "stream",
     "text": [
      "                 precision    recall  f1-score   support\n",
      "\n",
      "   DiseaseClass     0.4872    0.3115    0.3800        61\n",
      "       Modifier     0.6462    0.5020    0.5650       251\n",
      "SpecificDisease     0.5989    0.4291    0.5000       247\n",
      "\n",
      "    avg / total     0.6079    0.4490    0.5161       559\n",
      "\n"
     ]
    }
   ],
   "source": [
    "print(metrics.flat_classification_report(\n",
    "    y_test, y_pred_crf, labels=labels, digits=4\n",
    "))"
   ]
  }
 ],
 "metadata": {
  "kernelspec": {
   "display_name": "Python 3",
   "language": "python",
   "name": "python3"
  },
  "language_info": {
   "codemirror_mode": {
    "name": "ipython",
    "version": 3
   },
   "file_extension": ".py",
   "mimetype": "text/x-python",
   "name": "python",
   "nbconvert_exporter": "python",
   "pygments_lexer": "ipython3",
   "version": "3.6.5"
  }
 },
 "nbformat": 4,
 "nbformat_minor": 2
}
